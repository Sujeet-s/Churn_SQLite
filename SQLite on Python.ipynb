{
 "cells": [
  {
   "cell_type": "code",
   "execution_count": 2,
   "id": "9a1a9a81",
   "metadata": {},
   "outputs": [],
   "source": [
    "import sqlite3"
   ]
  },
  {
   "cell_type": "markdown",
   "id": "9851081a",
   "metadata": {},
   "source": [
    "# Creating a DB"
   ]
  },
  {
   "cell_type": "code",
   "execution_count": 2,
   "id": "e4b319f8",
   "metadata": {},
   "outputs": [],
   "source": [
    "# Create a connection (db)\n",
    "conn= sqlite3.connect(\"Example2.db\")"
   ]
  },
  {
   "cell_type": "code",
   "execution_count": 3,
   "id": "f73b560f",
   "metadata": {},
   "outputs": [],
   "source": [
    "# Create a cursor ( to allow you to execute query in that db)\n",
    "cur = conn.cursor()"
   ]
  },
  {
   "cell_type": "code",
   "execution_count": 4,
   "id": "020b18d6",
   "metadata": {},
   "outputs": [
    {
     "data": {
      "text/plain": [
       "<sqlite3.Cursor at 0x209fea4d180>"
      ]
     },
     "execution_count": 4,
     "metadata": {},
     "output_type": "execute_result"
    }
   ],
   "source": [
    "# Create a table\n",
    "cur.execute(\"CREATE TABLE CUSTOMER (NAME TEXT, LAST_NAME TEXT, INCOME REAL)\")"
   ]
  },
  {
   "cell_type": "code",
   "execution_count": 7,
   "id": "bb156cd7",
   "metadata": {},
   "outputs": [
    {
     "data": {
      "text/plain": [
       "<sqlite3.Cursor at 0x209fea4d180>"
      ]
     },
     "execution_count": 7,
     "metadata": {},
     "output_type": "execute_result"
    }
   ],
   "source": [
    "#Insert a row into table\n",
    "cur.execute(\"INSERT INTO CUSTOMER VALUES('SUJEET' , 'SRIVASTAVA', '4343423232134')\")"
   ]
  },
  {
   "cell_type": "code",
   "execution_count": 8,
   "id": "9850683f",
   "metadata": {},
   "outputs": [],
   "source": [
    "#Save results\n",
    "conn.commit()"
   ]
  },
  {
   "cell_type": "markdown",
   "id": "214b5bb9",
   "metadata": {},
   "source": [
    "# Connect to an existing DB"
   ]
  },
  {
   "cell_type": "code",
   "execution_count": 3,
   "id": "5a543402",
   "metadata": {},
   "outputs": [],
   "source": [
    "conn= sqlite3.connect(\"Example2.db\")\n",
    "\n",
    "curr= conn.cursor()"
   ]
  },
  {
   "cell_type": "code",
   "execution_count": 4,
   "id": "15a0e11f",
   "metadata": {},
   "outputs": [
    {
     "data": {
      "text/plain": [
       "('SUJEET', 'SRIVASTAVA', 4343423232134.0)"
      ]
     },
     "execution_count": 4,
     "metadata": {},
     "output_type": "execute_result"
    }
   ],
   "source": [
    "curr.execute(\"SELECT * FROM CUSTOMER\")\n",
    "curr.fetchone() # Fetchall() for all rows"
   ]
  },
  {
   "cell_type": "code",
   "execution_count": 5,
   "id": "bca3168f",
   "metadata": {},
   "outputs": [
    {
     "name": "stdout",
     "output_type": "stream",
     "text": [
      "('SUJEET', 'SRIVASTAVA', 4343423232134.0)\n"
     ]
    }
   ],
   "source": [
    "for row in curr.execute(\"SELECT * FROM CUSTOMER\"):\n",
    "    print(row)"
   ]
  },
  {
   "cell_type": "markdown",
   "id": "9c64dca2",
   "metadata": {},
   "source": [
    "# Add Several Rows"
   ]
  },
  {
   "cell_type": "code",
   "execution_count": 6,
   "id": "b1d964a5",
   "metadata": {},
   "outputs": [],
   "source": [
    "customer_list=[\n",
    "    (\"Sri\",\"Ambati\",3000),\n",
    "    (\"Sandeep\",\"Sai\",4040),\n",
    "    (\"Anup\",\"Rai\",123)\n",
    "]"
   ]
  },
  {
   "cell_type": "code",
   "execution_count": 7,
   "id": "c157d3f4",
   "metadata": {},
   "outputs": [
    {
     "data": {
      "text/plain": [
       "<sqlite3.Cursor at 0x1ab5bffab20>"
      ]
     },
     "execution_count": 7,
     "metadata": {},
     "output_type": "execute_result"
    }
   ],
   "source": [
    "curr.executemany(\"INSERT INTO CUSTOMER VALUES (?,?,?)\",customer_list)"
   ]
  },
  {
   "cell_type": "code",
   "execution_count": 8,
   "id": "c4baa565",
   "metadata": {},
   "outputs": [
    {
     "name": "stdout",
     "output_type": "stream",
     "text": [
      "('SUJEET', 'SRIVASTAVA', 4343423232134.0)\n",
      "('Sri', 'Ambati', 3000.0)\n",
      "('Sandeep', 'Sai', 4040.0)\n",
      "('Anup', 'Rai', 123.0)\n"
     ]
    }
   ],
   "source": [
    "for row in curr.execute(\"SELECT * FROM CUSTOMER\"):\n",
    "    print(row)"
   ]
  },
  {
   "cell_type": "code",
   "execution_count": 11,
   "id": "b607e770",
   "metadata": {},
   "outputs": [],
   "source": [
    "conn.commit()"
   ]
  },
  {
   "cell_type": "markdown",
   "id": "b9c466bf",
   "metadata": {},
   "source": [
    "# Running Queries"
   ]
  },
  {
   "cell_type": "code",
   "execution_count": 12,
   "id": "47c980e9",
   "metadata": {},
   "outputs": [],
   "source": [
    "conn.close()"
   ]
  },
  {
   "cell_type": "code",
   "execution_count": 13,
   "id": "277d1ee9",
   "metadata": {},
   "outputs": [
    {
     "ename": "ProgrammingError",
     "evalue": "Cannot operate on a closed database.",
     "output_type": "error",
     "traceback": [
      "\u001b[1;31m---------------------------------------------------------------------------\u001b[0m",
      "\u001b[1;31mProgrammingError\u001b[0m                          Traceback (most recent call last)",
      "\u001b[1;32m<ipython-input-13-14a37261fb03>\u001b[0m in \u001b[0;36m<module>\u001b[1;34m\u001b[0m\n\u001b[1;32m----> 1\u001b[1;33m \u001b[0mcurr\u001b[0m\u001b[1;33m.\u001b[0m\u001b[0mexecutemany\u001b[0m\u001b[1;33m(\u001b[0m\u001b[1;34m\"INSERT INTO CUSTOMER VALUES (?,?,?)\"\u001b[0m\u001b[1;33m,\u001b[0m\u001b[0mcustomer_list\u001b[0m\u001b[1;33m)\u001b[0m\u001b[1;33m\u001b[0m\u001b[1;33m\u001b[0m\u001b[0m\n\u001b[0m",
      "\u001b[1;31mProgrammingError\u001b[0m: Cannot operate on a closed database."
     ]
    }
   ],
   "source": [
    "curr.executemany(\"INSERT INTO CUSTOMER VALUES (?,?,?)\",customer_list)"
   ]
  },
  {
   "cell_type": "code",
   "execution_count": 14,
   "id": "2ac0086f",
   "metadata": {},
   "outputs": [],
   "source": [
    "conn= sqlite3.connect(\"Example2.db\")\n",
    "\n",
    "curr= conn.cursor()"
   ]
  },
  {
   "cell_type": "code",
   "execution_count": 15,
   "id": "677ecfae",
   "metadata": {},
   "outputs": [
    {
     "data": {
      "text/plain": [
       "[('SUJEET', 'SRIVASTAVA', 4343423232134.0)]"
      ]
     },
     "execution_count": 15,
     "metadata": {},
     "output_type": "execute_result"
    }
   ],
   "source": [
    "curr.execute(\"SELECT * FROM CUSTOMER WHERE NAME= 'SUJEET'\")\n",
    "curr.fetchall()"
   ]
  },
  {
   "cell_type": "code",
   "execution_count": 16,
   "id": "30c7eede",
   "metadata": {},
   "outputs": [
    {
     "data": {
      "text/plain": [
       "[('Sri', 'Ambati', 3000.0),\n",
       " ('Anup', 'Rai', 123.0),\n",
       " ('SUJEET', 'SRIVASTAVA', 4343423232134.0),\n",
       " ('Sandeep', 'Sai', 4040.0)]"
      ]
     },
     "execution_count": 16,
     "metadata": {},
     "output_type": "execute_result"
    }
   ],
   "source": [
    "curr.execute(\"SELECT * FROM CUSTOMER order by last_name\")\n",
    "curr.fetchall()"
   ]
  },
  {
   "cell_type": "code",
   "execution_count": 17,
   "id": "e86b26b1",
   "metadata": {},
   "outputs": [],
   "source": [
    "conn.close()"
   ]
  },
  {
   "cell_type": "markdown",
   "id": "8f146b86",
   "metadata": {},
   "source": [
    "# Pandas with SQLite"
   ]
  },
  {
   "cell_type": "code",
   "execution_count": 18,
   "id": "4bc8e3bc",
   "metadata": {},
   "outputs": [],
   "source": [
    "import pandas as pd\n",
    "import sqlite3\n",
    "import warnings\n",
    "warnings.filterwarnings(\"ignore\")"
   ]
  },
  {
   "cell_type": "code",
   "execution_count": 19,
   "id": "ca2beeb1",
   "metadata": {},
   "outputs": [],
   "source": [
    "conn= sqlite3.connect(\"Example2.db\")\n",
    "cur= conn.cursor()"
   ]
  },
  {
   "cell_type": "code",
   "execution_count": 20,
   "id": "787f927e",
   "metadata": {},
   "outputs": [
    {
     "data": {
      "text/plain": [
       "[('SUJEET', 'SRIVASTAVA', 4343423232134.0),\n",
       " ('Sri', 'Ambati', 3000.0),\n",
       " ('Sandeep', 'Sai', 4040.0),\n",
       " ('Anup', 'Rai', 123.0)]"
      ]
     },
     "execution_count": 20,
     "metadata": {},
     "output_type": "execute_result"
    }
   ],
   "source": [
    "cur.execute(\"SELECT * FROM CUSTOMER\")\n",
    "cur.fetchall()"
   ]
  },
  {
   "cell_type": "code",
   "execution_count": 21,
   "id": "d39d2a5e",
   "metadata": {},
   "outputs": [
    {
     "data": {
      "text/html": [
       "<div>\n",
       "<style scoped>\n",
       "    .dataframe tbody tr th:only-of-type {\n",
       "        vertical-align: middle;\n",
       "    }\n",
       "\n",
       "    .dataframe tbody tr th {\n",
       "        vertical-align: top;\n",
       "    }\n",
       "\n",
       "    .dataframe thead th {\n",
       "        text-align: right;\n",
       "    }\n",
       "</style>\n",
       "<table border=\"1\" class=\"dataframe\">\n",
       "  <thead>\n",
       "    <tr style=\"text-align: right;\">\n",
       "      <th></th>\n",
       "      <th>NAME</th>\n",
       "      <th>LAST_NAME</th>\n",
       "      <th>INCOME</th>\n",
       "    </tr>\n",
       "  </thead>\n",
       "  <tbody>\n",
       "    <tr>\n",
       "      <th>0</th>\n",
       "      <td>SUJEET</td>\n",
       "      <td>SRIVASTAVA</td>\n",
       "      <td>4.343423e+12</td>\n",
       "    </tr>\n",
       "    <tr>\n",
       "      <th>1</th>\n",
       "      <td>Sri</td>\n",
       "      <td>Ambati</td>\n",
       "      <td>3.000000e+03</td>\n",
       "    </tr>\n",
       "    <tr>\n",
       "      <th>2</th>\n",
       "      <td>Sandeep</td>\n",
       "      <td>Sai</td>\n",
       "      <td>4.040000e+03</td>\n",
       "    </tr>\n",
       "    <tr>\n",
       "      <th>3</th>\n",
       "      <td>Anup</td>\n",
       "      <td>Rai</td>\n",
       "      <td>1.230000e+02</td>\n",
       "    </tr>\n",
       "  </tbody>\n",
       "</table>\n",
       "</div>"
      ],
      "text/plain": [
       "      NAME   LAST_NAME        INCOME\n",
       "0   SUJEET  SRIVASTAVA  4.343423e+12\n",
       "1      Sri      Ambati  3.000000e+03\n",
       "2  Sandeep         Sai  4.040000e+03\n",
       "3     Anup         Rai  1.230000e+02"
      ]
     },
     "execution_count": 21,
     "metadata": {},
     "output_type": "execute_result"
    }
   ],
   "source": [
    "# Creating Dataframe from sql query\n",
    "df= pd.read_sql_query(\"SELECT * FROM CUSTOMER\",conn)\n",
    "df"
   ]
  },
  {
   "cell_type": "code",
   "execution_count": 22,
   "id": "ad6fc359",
   "metadata": {},
   "outputs": [],
   "source": [
    "data = pd.read_sql(\"SELECT * FROM CUSTOMER\",conn)"
   ]
  },
  {
   "cell_type": "code",
   "execution_count": 23,
   "id": "db99da42",
   "metadata": {},
   "outputs": [
    {
     "data": {
      "text/html": [
       "<div>\n",
       "<style scoped>\n",
       "    .dataframe tbody tr th:only-of-type {\n",
       "        vertical-align: middle;\n",
       "    }\n",
       "\n",
       "    .dataframe tbody tr th {\n",
       "        vertical-align: top;\n",
       "    }\n",
       "\n",
       "    .dataframe thead th {\n",
       "        text-align: right;\n",
       "    }\n",
       "</style>\n",
       "<table border=\"1\" class=\"dataframe\">\n",
       "  <thead>\n",
       "    <tr style=\"text-align: right;\">\n",
       "      <th></th>\n",
       "      <th>NAME</th>\n",
       "      <th>LAST_NAME</th>\n",
       "      <th>INCOME</th>\n",
       "    </tr>\n",
       "  </thead>\n",
       "  <tbody>\n",
       "    <tr>\n",
       "      <th>0</th>\n",
       "      <td>SUJEET</td>\n",
       "      <td>SRIVASTAVA</td>\n",
       "      <td>4.343423e+12</td>\n",
       "    </tr>\n",
       "    <tr>\n",
       "      <th>1</th>\n",
       "      <td>Sri</td>\n",
       "      <td>Ambati</td>\n",
       "      <td>3.000000e+03</td>\n",
       "    </tr>\n",
       "    <tr>\n",
       "      <th>2</th>\n",
       "      <td>Sandeep</td>\n",
       "      <td>Sai</td>\n",
       "      <td>4.040000e+03</td>\n",
       "    </tr>\n",
       "    <tr>\n",
       "      <th>3</th>\n",
       "      <td>Anup</td>\n",
       "      <td>Rai</td>\n",
       "      <td>1.230000e+02</td>\n",
       "    </tr>\n",
       "  </tbody>\n",
       "</table>\n",
       "</div>"
      ],
      "text/plain": [
       "      NAME   LAST_NAME        INCOME\n",
       "0   SUJEET  SRIVASTAVA  4.343423e+12\n",
       "1      Sri      Ambati  3.000000e+03\n",
       "2  Sandeep         Sai  4.040000e+03\n",
       "3     Anup         Rai  1.230000e+02"
      ]
     },
     "execution_count": 23,
     "metadata": {},
     "output_type": "execute_result"
    }
   ],
   "source": [
    "data"
   ]
  },
  {
   "cell_type": "code",
   "execution_count": 25,
   "id": "8a89d219",
   "metadata": {},
   "outputs": [],
   "source": [
    "import os\n",
    "path=os.getcwd()"
   ]
  },
  {
   "cell_type": "code",
   "execution_count": 26,
   "id": "7a1d040b",
   "metadata": {},
   "outputs": [
    {
     "data": {
      "text/html": [
       "<div>\n",
       "<style scoped>\n",
       "    .dataframe tbody tr th:only-of-type {\n",
       "        vertical-align: middle;\n",
       "    }\n",
       "\n",
       "    .dataframe tbody tr th {\n",
       "        vertical-align: top;\n",
       "    }\n",
       "\n",
       "    .dataframe thead th {\n",
       "        text-align: right;\n",
       "    }\n",
       "</style>\n",
       "<table border=\"1\" class=\"dataframe\">\n",
       "  <thead>\n",
       "    <tr style=\"text-align: right;\">\n",
       "      <th></th>\n",
       "      <th>Name</th>\n",
       "      <th>Age</th>\n",
       "    </tr>\n",
       "  </thead>\n",
       "  <tbody>\n",
       "    <tr>\n",
       "      <th>0</th>\n",
       "      <td>Favio</td>\n",
       "      <td>31</td>\n",
       "    </tr>\n",
       "    <tr>\n",
       "      <th>1</th>\n",
       "      <td>Marco</td>\n",
       "      <td>25</td>\n",
       "    </tr>\n",
       "    <tr>\n",
       "      <th>2</th>\n",
       "      <td>Sri</td>\n",
       "      <td>60</td>\n",
       "    </tr>\n",
       "    <tr>\n",
       "      <th>3</th>\n",
       "      <td>Anu</td>\n",
       "      <td>58</td>\n",
       "    </tr>\n",
       "    <tr>\n",
       "      <th>4</th>\n",
       "      <td>Sandeep</td>\n",
       "      <td>28</td>\n",
       "    </tr>\n",
       "  </tbody>\n",
       "</table>\n",
       "</div>"
      ],
      "text/plain": [
       "      Name  Age\n",
       "0    Favio   31\n",
       "1    Marco   25\n",
       "2      Sri   60\n",
       "3      Anu   58\n",
       "4  Sandeep   28"
      ]
     },
     "execution_count": 26,
     "metadata": {},
     "output_type": "execute_result"
    }
   ],
   "source": [
    "sample_df= pd.read_csv(path+'\\\\Session+1+Files\\\\sample.csv')\n",
    "sample_df"
   ]
  },
  {
   "cell_type": "markdown",
   "id": "c0375099",
   "metadata": {},
   "source": [
    "# Uploading Pandas DF to SQL"
   ]
  },
  {
   "cell_type": "code",
   "execution_count": 27,
   "id": "2384ab42",
   "metadata": {},
   "outputs": [
    {
     "data": {
      "text/html": [
       "<div>\n",
       "<style scoped>\n",
       "    .dataframe tbody tr th:only-of-type {\n",
       "        vertical-align: middle;\n",
       "    }\n",
       "\n",
       "    .dataframe tbody tr th {\n",
       "        vertical-align: top;\n",
       "    }\n",
       "\n",
       "    .dataframe thead th {\n",
       "        text-align: right;\n",
       "    }\n",
       "</style>\n",
       "<table border=\"1\" class=\"dataframe\">\n",
       "  <thead>\n",
       "    <tr style=\"text-align: right;\">\n",
       "      <th></th>\n",
       "      <th>Name</th>\n",
       "      <th>Age</th>\n",
       "    </tr>\n",
       "  </thead>\n",
       "  <tbody>\n",
       "    <tr>\n",
       "      <th>0</th>\n",
       "      <td>Favio</td>\n",
       "      <td>31</td>\n",
       "    </tr>\n",
       "    <tr>\n",
       "      <th>1</th>\n",
       "      <td>Marco</td>\n",
       "      <td>25</td>\n",
       "    </tr>\n",
       "    <tr>\n",
       "      <th>2</th>\n",
       "      <td>Sri</td>\n",
       "      <td>60</td>\n",
       "    </tr>\n",
       "    <tr>\n",
       "      <th>3</th>\n",
       "      <td>Anu</td>\n",
       "      <td>58</td>\n",
       "    </tr>\n",
       "    <tr>\n",
       "      <th>4</th>\n",
       "      <td>Sandeep</td>\n",
       "      <td>28</td>\n",
       "    </tr>\n",
       "  </tbody>\n",
       "</table>\n",
       "</div>"
      ],
      "text/plain": [
       "      Name  Age\n",
       "0    Favio   31\n",
       "1    Marco   25\n",
       "2      Sri   60\n",
       "3      Anu   58\n",
       "4  Sandeep   28"
      ]
     },
     "execution_count": 27,
     "metadata": {},
     "output_type": "execute_result"
    }
   ],
   "source": [
    "sample_df"
   ]
  },
  {
   "cell_type": "code",
   "execution_count": 28,
   "id": "723afb45",
   "metadata": {},
   "outputs": [],
   "source": [
    "sample_df.to_sql(\"sample_table\",conn, if_exists=\"replace\",index=False)"
   ]
  },
  {
   "cell_type": "code",
   "execution_count": 30,
   "id": "3e2f24b4",
   "metadata": {},
   "outputs": [
    {
     "data": {
      "text/html": [
       "<div>\n",
       "<style scoped>\n",
       "    .dataframe tbody tr th:only-of-type {\n",
       "        vertical-align: middle;\n",
       "    }\n",
       "\n",
       "    .dataframe tbody tr th {\n",
       "        vertical-align: top;\n",
       "    }\n",
       "\n",
       "    .dataframe thead th {\n",
       "        text-align: right;\n",
       "    }\n",
       "</style>\n",
       "<table border=\"1\" class=\"dataframe\">\n",
       "  <thead>\n",
       "    <tr style=\"text-align: right;\">\n",
       "      <th></th>\n",
       "      <th>Name</th>\n",
       "      <th>Age</th>\n",
       "    </tr>\n",
       "  </thead>\n",
       "  <tbody>\n",
       "    <tr>\n",
       "      <th>0</th>\n",
       "      <td>Favio</td>\n",
       "      <td>31</td>\n",
       "    </tr>\n",
       "    <tr>\n",
       "      <th>1</th>\n",
       "      <td>Marco</td>\n",
       "      <td>25</td>\n",
       "    </tr>\n",
       "    <tr>\n",
       "      <th>2</th>\n",
       "      <td>Sri</td>\n",
       "      <td>60</td>\n",
       "    </tr>\n",
       "    <tr>\n",
       "      <th>3</th>\n",
       "      <td>Anu</td>\n",
       "      <td>58</td>\n",
       "    </tr>\n",
       "    <tr>\n",
       "      <th>4</th>\n",
       "      <td>Sandeep</td>\n",
       "      <td>28</td>\n",
       "    </tr>\n",
       "  </tbody>\n",
       "</table>\n",
       "</div>"
      ],
      "text/plain": [
       "      Name  Age\n",
       "0    Favio   31\n",
       "1    Marco   25\n",
       "2      Sri   60\n",
       "3      Anu   58\n",
       "4  Sandeep   28"
      ]
     },
     "execution_count": 30,
     "metadata": {},
     "output_type": "execute_result"
    }
   ],
   "source": [
    "pd.read_sql(\"select * from sample_table\",conn)"
   ]
  },
  {
   "cell_type": "markdown",
   "id": "379f48a2",
   "metadata": {},
   "source": [
    "# Function to get all table info"
   ]
  },
  {
   "cell_type": "code",
   "execution_count": 31,
   "id": "fd5bd1f5",
   "metadata": {},
   "outputs": [],
   "source": [
    "conn= sqlite3.connect(\"Example2.db\")\n",
    "cur= conn.cursor()"
   ]
  },
  {
   "cell_type": "code",
   "execution_count": 35,
   "id": "8204c0c4",
   "metadata": {},
   "outputs": [],
   "source": [
    "def table_info(conn,cur):\n",
    "    \"\"\"\n",
    "    prints out all columns for every table in the DB\n",
    "    \"\"\"\n",
    "    tables = cur.execute(\"select name from sqlite_master WHERE type='table';\").fetchall()\n",
    "    for table_name in tables:\n",
    "        table_name= table_name[0]\n",
    "        table= pd.read_sql_query(\"SELECT * FROM {} limit 0 \".format(table_name), conn)\n",
    "        print(table_name)\n",
    "        for col in table.columns:\n",
    "            print(\"\\t\"+col)\n",
    "            print()"
   ]
  },
  {
   "cell_type": "code",
   "execution_count": 36,
   "id": "4bb4b823",
   "metadata": {},
   "outputs": [
    {
     "name": "stdout",
     "output_type": "stream",
     "text": [
      "CUSTOMER\n",
      "\tNAME\n",
      "\n",
      "\tLAST_NAME\n",
      "\n",
      "\tINCOME\n",
      "\n",
      "sample_table\n",
      "\tName\n",
      "\n",
      "\tAge\n",
      "\n"
     ]
    }
   ],
   "source": [
    "table_info(conn,cur)"
   ]
  },
  {
   "cell_type": "markdown",
   "id": "575b5fab",
   "metadata": {},
   "source": [
    "# Extracting Table Schema"
   ]
  },
  {
   "cell_type": "code",
   "execution_count": 37,
   "id": "6849b534",
   "metadata": {},
   "outputs": [
    {
     "data": {
      "text/plain": [
       "[(0, 'NAME', 'TEXT', 0, None, 0),\n",
       " (1, 'LAST_NAME', 'TEXT', 0, None, 0),\n",
       " (2, 'INCOME', 'REAL', 0, None, 0)]"
      ]
     },
     "execution_count": 37,
     "metadata": {},
     "output_type": "execute_result"
    }
   ],
   "source": [
    "cur.execute(\"PRAGMA table_info('customer')\").fetchall()"
   ]
  },
  {
   "cell_type": "markdown",
   "id": "90ca491f",
   "metadata": {},
   "source": [
    "Every row includes:\n",
    "\n",
    "- Index of the column\n",
    "- Column Name\n",
    "- Data type\n",
    "- Whether or not the column can be NULL\n",
    "- The default value for the column\n",
    "- The primary key in the result is 0 for columns that are not the primary key"
   ]
  }
 ],
 "metadata": {
  "kernelspec": {
   "display_name": "Python 3",
   "language": "python",
   "name": "python3"
  },
  "language_info": {
   "codemirror_mode": {
    "name": "ipython",
    "version": 3
   },
   "file_extension": ".py",
   "mimetype": "text/x-python",
   "name": "python",
   "nbconvert_exporter": "python",
   "pygments_lexer": "ipython3",
   "version": "3.8.8"
  }
 },
 "nbformat": 4,
 "nbformat_minor": 5
}
